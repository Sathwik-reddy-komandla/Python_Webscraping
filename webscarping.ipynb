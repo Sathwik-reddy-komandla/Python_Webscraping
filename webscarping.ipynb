{
 "cells": [
  {
   "cell_type": "code",
   "execution_count": null,
   "id": "a0842e13-095c-49e1-a6ac-3a393fe3a977",
   "metadata": {},
   "outputs": [],
   "source": [
    "import pandas as pd\n",
    "import requests\n",
    "from bs4 import BeautifulSoup\n"
   ]
  },
  {
   "cell_type": "code",
   "execution_count": null,
   "id": "d982f095-16fb-4751-ab15-4f3fd25ea649",
   "metadata": {},
   "outputs": [],
   "source": [
    "headers={'User-Agent':'Mozilla/5.0 (Windows NT 10.0; Win64; x64) AppleWebKit/537.36 (KHTML, like Gecko) Chrome/116.0.0.0 Safari/537.36'}\n",
    "webPage=requests.get('https://www.ambitionbox.com/list-of-companies?page=1',headers=headers).text"
   ]
  },
  {
   "cell_type": "code",
   "execution_count": null,
   "id": "802ccb37-10ef-4e3e-9ffb-2b7d720d9061",
   "metadata": {},
   "outputs": [],
   "source": [
    "soup=BeautifulSoup(webPage,'html.parser')"
   ]
  },
  {
   "cell_type": "code",
   "execution_count": null,
   "id": "89fd7568-0479-427a-844e-8cd777fd6800",
   "metadata": {},
   "outputs": [],
   "source": [
    "companies=soup.find_all('h2')\n",
    "# for i in soup.find_all('h2'):\n",
    "#     print(i.text.strip())\n",
    "\n",
    "len(companies)"
   ]
  },
  {
   "cell_type": "code",
   "execution_count": null,
   "id": "7630734c-144b-4a5c-aa29-791c5eaaf355",
   "metadata": {},
   "outputs": [],
   "source": [
    "ratings='companyCardWrapper__companyRatingValue'\n",
    "all_ratings=soup.find_all('span',class_=ratings)[0]"
   ]
  },
  {
   "cell_type": "code",
   "execution_count": null,
   "id": "aa3620c7-479d-4e15-a5e2-74b285621ed4",
   "metadata": {},
   "outputs": [],
   "source": [
    "len(all_ratings)"
   ]
  },
  {
   "cell_type": "code",
   "execution_count": null,
   "id": "e4a7cd7a-1949-46bf-aa4f-df918c5351c6",
   "metadata": {},
   "outputs": [],
   "source": [
    "\n",
    "company=soup.find_all('div',class_='companyCardWrapper')\n",
    "len(company)\n"
   ]
  },
  {
   "cell_type": "code",
   "execution_count": null,
   "id": "d7fccf66-26d6-4a89-b5c8-b8669f074c54",
   "metadata": {},
   "outputs": [],
   "source": [
    "reviews_class='companyCardWrapper__ActionCount'\n",
    "\n",
    "name=[]\n",
    "rating=[]\n",
    "reviews=[]\n",
    "for i in company:\n",
    "    name.append(i.find('h2').text.strip())\n",
    "    rating.append(i.find('span',class_='companyCardWrapper__companyRatingValue').text)\n",
    "    reviews.append(i.find('span',class_='companyCardWrapper__ActionCount').text)\n",
    "\n",
    "d={\"name\":name,\"rating\":rating,\"reviews\":reviews}\n",
    "df=pd.DataFrame(d)\n",
    "\n"
   ]
  },
  {
   "cell_type": "code",
   "execution_count": null,
   "id": "1092182c-655e-48d9-aff3-1f49c634b00e",
   "metadata": {},
   "outputs": [],
   "source": [
    "\n",
    "df"
   ]
  },
  {
   "cell_type": "code",
   "execution_count": null,
   "id": "7c542a39-7829-41a9-b4de-2d15aa8ea5b4",
   "metadata": {},
   "outputs": [],
   "source": [
    "reviews_class='companyCardWrapper__ActionCount'\n",
    "df_list=[]\n",
    "headers={'User-Agent':'Mozilla/5.0 (Windows NT 10.0; Win64; x64) AppleWebKit/537.36 (KHTML, like Gecko) Chrome/116.0.0.0 Safari/537.36'}\n",
    "webPage=requests.get('https://www.ambitionbox.com/list-of-companies?page=1',headers=headers).text\n",
    "\n",
    "for j in range(1,111):\n",
    "    webPage=requests.get('https://www.ambitionbox.com/list-of-companies?page=1',headers=headers).text\n",
    "    company=soup.find_all('div',class_='companyCardWrapper')\n",
    "\n",
    "    name=[]\n",
    "    rating=[]\n",
    "    reviews=[]\n",
    "    for i in company:\n",
    "        name.append(i.find('h2').text.strip())\n",
    "        rating.append(i.find('span',class_='companyCardWrapper__companyRatingValue').text)\n",
    "        reviews.append(i.find('span',class_='companyCardWrapper__ActionCount').text)\n",
    "    \n",
    "    d={\"name\":name,\"rating\":rating,\"reviews\":reviews}\n",
    "    df=pd.DataFrame(d)\n",
    "    df_list.append(df)\n",
    "    print(f\"successfully copleted {j} page\")\n",
    "final=pd.concat(df_list,ignore_index=True)\n"
   ]
  },
  {
   "cell_type": "code",
   "execution_count": null,
   "id": "1cea3c50-057e-4435-82a2-6fe037c1b8f3",
   "metadata": {},
   "outputs": [],
   "source": [
    "final"
   ]
  },
  {
   "cell_type": "code",
   "execution_count": null,
   "id": "1b4bc507-0483-47f5-893c-1d9dd3d62170",
   "metadata": {},
   "outputs": [],
   "source": [
    "final.shape"
   ]
  },
  {
   "cell_type": "code",
   "execution_count": null,
   "id": "c11a6dc2-699e-439d-90bc-a583b62a988b",
   "metadata": {},
   "outputs": [],
   "source": []
  }
 ],
 "metadata": {
  "kernelspec": {
   "display_name": "Python 3 (ipykernel)",
   "language": "python",
   "name": "python3"
  },
  "language_info": {
   "codemirror_mode": {
    "name": "ipython",
    "version": 3
   },
   "file_extension": ".py",
   "mimetype": "text/x-python",
   "name": "python",
   "nbconvert_exporter": "python",
   "pygments_lexer": "ipython3",
   "version": "3.11.4"
  }
 },
 "nbformat": 4,
 "nbformat_minor": 5
}
